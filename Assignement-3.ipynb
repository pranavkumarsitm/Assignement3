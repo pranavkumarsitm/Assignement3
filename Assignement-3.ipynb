{
 "cells": [
  {
   "cell_type": "raw",
   "id": "cc6330f7-376c-415e-863b-46821a5fa5d9",
   "metadata": {},
   "source": [
    "Q1. Which keyword is used to create a function? Create a function to return a list of odd numbers in the range of 1 to 25."
   ]
  },
  {
   "cell_type": "markdown",
   "id": "02e4dbd5-fa09-466f-b28f-f901700f217f",
   "metadata": {},
   "source": [
    "Ans:- \"def\" command is used to create function."
   ]
  },
  {
   "cell_type": "code",
   "execution_count": 45,
   "id": "7cf3ecb3-60b0-4674-9256-f08394f1ac23",
   "metadata": {},
   "outputs": [],
   "source": [
    "def odd_num():\n",
    "    for i in range(1, 26):\n",
    "        if i % 2 != 0:\n",
    "            print(i)\n",
    "    return\n",
    "      \n",
    "    "
   ]
  },
  {
   "cell_type": "code",
   "execution_count": 48,
   "id": "1dcb5848-2337-4c7c-9536-8f916511f9a1",
   "metadata": {},
   "outputs": [
    {
     "name": "stdout",
     "output_type": "stream",
     "text": [
      "1\n",
      "3\n",
      "5\n",
      "7\n",
      "9\n",
      "11\n",
      "13\n",
      "15\n",
      "17\n",
      "19\n",
      "21\n",
      "23\n",
      "25\n"
     ]
    }
   ],
   "source": [
    "odd_num()"
   ]
  },
  {
   "cell_type": "code",
   "execution_count": null,
   "id": "72409c3a-753d-48c1-826a-f3cc90a5b5a1",
   "metadata": {},
   "outputs": [],
   "source": []
  },
  {
   "cell_type": "code",
   "execution_count": null,
   "id": "4751898f-5853-4ec1-a8b9-e4fe29172ae7",
   "metadata": {},
   "outputs": [],
   "source": []
  },
  {
   "cell_type": "raw",
   "id": "891c7f30-3fd2-4a8b-81e9-9d8d664811f0",
   "metadata": {},
   "source": [
    "Q2. Why *args and **kwargs is used in some functions? Create a function each for *args and **kwargs to demonstrate their use."
   ]
  },
  {
   "cell_type": "markdown",
   "id": "6285b2c5-ab28-43ad-aa67-11b5b5dec4b0",
   "metadata": {},
   "source": [
    "Ans:- *args:- \"N\" number of agruments can pass the function.\n",
    "      **kwargs:- return dictionary."
   ]
  },
  {
   "cell_type": "code",
   "execution_count": 49,
   "id": "4c6439c7-f9c4-4404-8fe6-1ce42a0fca68",
   "metadata": {},
   "outputs": [
    {
     "data": {
      "text/plain": [
       "(3, 45, 22.45, 'you', [4, 3, 5])"
      ]
     },
     "execution_count": 49,
     "metadata": {},
     "output_type": "execute_result"
    }
   ],
   "source": [
    "def use_args(*args):\n",
    "    return args\n",
    "use_args(3,45,22.45, \"you\", [4,3,5])"
   ]
  },
  {
   "cell_type": "code",
   "execution_count": 50,
   "id": "384fa669-6b5e-435b-ac04-4b2b0e43b09f",
   "metadata": {},
   "outputs": [
    {
     "data": {
      "text/plain": [
       "{'a': [3, 5, 4, 3], 'b': 'kumar', 'c': 45.76}"
      ]
     },
     "execution_count": 50,
     "metadata": {},
     "output_type": "execute_result"
    }
   ],
   "source": [
    "def use_kwargs(**kwargs):\n",
    "    return kwargs\n",
    "use_kwargs(a = [3,5,4,3], b=\"kumar\", c= 45.76)"
   ]
  },
  {
   "cell_type": "code",
   "execution_count": null,
   "id": "9233a79b-43ee-432a-9732-5f51381e7ec1",
   "metadata": {},
   "outputs": [],
   "source": []
  },
  {
   "cell_type": "code",
   "execution_count": null,
   "id": "65dce7a3-95c2-49e6-9b4f-b8dd80ba863a",
   "metadata": {},
   "outputs": [],
   "source": []
  },
  {
   "cell_type": "raw",
   "id": "f1a6673e-e76d-415a-82fd-60b94d0ae1e2",
   "metadata": {},
   "source": [
    "Q3. What is an iterator in python? Name the method used to initialise the iteraor object and the method used for iteration. Use these methods to print the five elements of the given list [2,4,6,8,10,12,14,16,18,20]."
   ]
  },
  {
   "cell_type": "markdown",
   "id": "a3ef5466-4fcc-4f10-bd5a-d5ce8f6d5435",
   "metadata": {},
   "source": [
    "Ans.:- Iterator:- An object that allows to iterate over collections of data, such as lists, tuples, dictionaries, and sets."
   ]
  },
  {
   "cell_type": "code",
   "execution_count": 2,
   "id": "1e4bc648-472d-477e-8ba5-133690cc49e5",
   "metadata": {},
   "outputs": [
    {
     "name": "stdout",
     "output_type": "stream",
     "text": [
      "2\n"
     ]
    }
   ],
   "source": [
    "l = [2,4,6,8,10,12,14,16,18,20]\n",
    "iterator = iter(l)\n",
    "print(next(iterator))"
   ]
  },
  {
   "cell_type": "code",
   "execution_count": 3,
   "id": "4dc57514-a03c-4c50-b637-831b25f24aa2",
   "metadata": {},
   "outputs": [
    {
     "name": "stdout",
     "output_type": "stream",
     "text": [
      "4\n"
     ]
    }
   ],
   "source": [
    "print(next(iterator))"
   ]
  },
  {
   "cell_type": "code",
   "execution_count": 4,
   "id": "44782a93-5161-472a-8ec7-fb5766b15c27",
   "metadata": {},
   "outputs": [
    {
     "name": "stdout",
     "output_type": "stream",
     "text": [
      "6\n"
     ]
    }
   ],
   "source": [
    "print(next(iterator))"
   ]
  },
  {
   "cell_type": "code",
   "execution_count": 5,
   "id": "fd3bdef0-7ad7-4fcb-9403-472f0f5be251",
   "metadata": {},
   "outputs": [
    {
     "name": "stdout",
     "output_type": "stream",
     "text": [
      "8\n"
     ]
    }
   ],
   "source": [
    "print(next(iterator))"
   ]
  },
  {
   "cell_type": "code",
   "execution_count": 6,
   "id": "ede93bcc-2a1a-485d-93bd-5e5e7e608f27",
   "metadata": {},
   "outputs": [
    {
     "name": "stdout",
     "output_type": "stream",
     "text": [
      "10\n"
     ]
    }
   ],
   "source": [
    "print(next(iterator))"
   ]
  },
  {
   "cell_type": "code",
   "execution_count": null,
   "id": "888869c0-e30c-41ef-a793-67e3c95dc9f0",
   "metadata": {},
   "outputs": [],
   "source": []
  },
  {
   "cell_type": "code",
   "execution_count": null,
   "id": "d71f1123-382d-4d0c-859c-0b326e150359",
   "metadata": {},
   "outputs": [],
   "source": []
  },
  {
   "cell_type": "raw",
   "id": "98accd6a-9f81-4985-a2b6-85d5092fc621",
   "metadata": {},
   "source": [
    "Q4. What is a generator function in python? Why yield keyboard is used? Given an example of a generator function."
   ]
  },
  {
   "cell_type": "markdown",
   "id": "7e658317-1930-4877-97a6-35c60d296761",
   "metadata": {},
   "source": [
    "Generator function:- A function that generates a sequence of values.\n",
    "yield keyboard:- when we want to iterate over a sequence, but don't want to store the entire sequence in memory."
   ]
  },
  {
   "cell_type": "code",
   "execution_count": 15,
   "id": "0ab540b5-e78a-47b3-9e4f-dd6800edd8e1",
   "metadata": {},
   "outputs": [],
   "source": [
    "def test(n):\n",
    "    a, b = 0, 1\n",
    "    for i in range(n):\n",
    "        yield a\n",
    "        a, b = b, a+b"
   ]
  },
  {
   "cell_type": "code",
   "execution_count": 17,
   "id": "c86a1b04-1cf1-42d6-a129-586f90b5ba81",
   "metadata": {},
   "outputs": [
    {
     "name": "stdout",
     "output_type": "stream",
     "text": [
      "0\n",
      "1\n",
      "1\n",
      "2\n",
      "3\n",
      "5\n",
      "8\n",
      "13\n",
      "21\n",
      "34\n"
     ]
    }
   ],
   "source": [
    " for i in test(10):\n",
    "        print(i)"
   ]
  },
  {
   "cell_type": "code",
   "execution_count": null,
   "id": "ba3e03fe-365a-47cc-a24e-5e4c5e79a13d",
   "metadata": {},
   "outputs": [],
   "source": []
  },
  {
   "cell_type": "code",
   "execution_count": null,
   "id": "facc36c2-9c57-4fb6-b566-2c842e87e4a4",
   "metadata": {},
   "outputs": [],
   "source": []
  },
  {
   "cell_type": "raw",
   "id": "3c511c1d-b58d-460e-b518-92a9b4143ac1",
   "metadata": {},
   "source": [
    "Q5. Create a generator function for prime numbers less than 1000. Use the next() method to print the first 20 prime numbers."
   ]
  },
  {
   "cell_type": "code",
   "execution_count": 3,
   "id": "a85dacd2-c050-4972-a745-8ce80e0848bd",
   "metadata": {},
   "outputs": [
    {
     "name": "stdout",
     "output_type": "stream",
     "text": [
      "\n"
     ]
    }
   ],
   "source": [
    "def prime_num():\n",
    "    a = list(range(2,1001))\n",
    "    print(a)\n",
    "    for i in a:\n",
    "        flag = 0\n",
    "        for j in range(2, i):\n",
    "            if (i % j == 0):\n",
    "                flag = 1\n",
    "                break\n",
    "        if (flag == 0):\n",
    "            print(i, end = ' ')\n",
    "print()\n",
    "        \n",
    "    "
   ]
  },
  {
   "cell_type": "code",
   "execution_count": null,
   "id": "fe48d86b-11a4-402c-86ef-e9907dc9fee8",
   "metadata": {},
   "outputs": [],
   "source": []
  },
  {
   "cell_type": "code",
   "execution_count": null,
   "id": "1d527748-e103-4eb1-b26e-0fc3c744a661",
   "metadata": {},
   "outputs": [],
   "source": []
  },
  {
   "cell_type": "code",
   "execution_count": 4,
   "id": "692d663e-1ff0-415e-a8db-ba6a86133712",
   "metadata": {},
   "outputs": [
    {
     "data": {
      "text/plain": [
       "12"
      ]
     },
     "execution_count": 4,
     "metadata": {},
     "output_type": "execute_result"
    }
   ],
   "source": [
    "4+8"
   ]
  },
  {
   "cell_type": "code",
   "execution_count": null,
   "id": "e8b67d06-8c52-4489-89d1-2bec04b3dc54",
   "metadata": {},
   "outputs": [],
   "source": []
  },
  {
   "cell_type": "raw",
   "id": "3a5bff41-3ab5-40ab-bfe5-7c5b0fe4b98c",
   "metadata": {},
   "source": [
    "Q6. Write a python program to print the first 10 Fibonacci numbers using a while loop."
   ]
  },
  {
   "cell_type": "code",
   "execution_count": 6,
   "id": "b9874dcc-7c4f-4f78-bedf-91672772d558",
   "metadata": {},
   "outputs": [],
   "source": [
    "def test_fib1():\n",
    "    a,b=0,1\n",
    "    while True:\n",
    "        yield a\n",
    "        a,b=b,a+b"
   ]
  },
  {
   "cell_type": "code",
   "execution_count": 7,
   "id": "94faba06-c60f-4133-9f43-df15b1cad355",
   "metadata": {},
   "outputs": [],
   "source": [
    "fib = test_fib1()"
   ]
  },
  {
   "cell_type": "code",
   "execution_count": 8,
   "id": "585d32eb-7f1f-4863-9653-ac5bfd18089e",
   "metadata": {},
   "outputs": [
    {
     "name": "stdout",
     "output_type": "stream",
     "text": [
      "0\n",
      "1\n",
      "1\n",
      "2\n",
      "3\n",
      "5\n",
      "8\n",
      "13\n",
      "21\n",
      "34\n"
     ]
    }
   ],
   "source": [
    "for i in range(10):\n",
    "    print(next(fib))"
   ]
  },
  {
   "cell_type": "code",
   "execution_count": null,
   "id": "9de9b2c7-b9be-4552-9ab1-e0a950eb9b8c",
   "metadata": {},
   "outputs": [],
   "source": []
  },
  {
   "cell_type": "code",
   "execution_count": null,
   "id": "46c34cd3-3490-4e67-afad-1aeb6288f4ef",
   "metadata": {},
   "outputs": [],
   "source": []
  },
  {
   "cell_type": "raw",
   "id": "4113110d-4d30-419a-b303-283fe70830b3",
   "metadata": {},
   "source": [
    "Q7. Write a List Comprehension to iterate through the given string: 'pwskills'. Expected output: ['p', 'w','s','k','i','l','l','s']"
   ]
  },
  {
   "cell_type": "code",
   "execution_count": 8,
   "id": "e11242c1-f7d6-4d43-bd8d-fc26ebc723ea",
   "metadata": {},
   "outputs": [],
   "source": []
  },
  {
   "cell_type": "code",
   "execution_count": null,
   "id": "6c2a8b01-5ad0-4b48-b619-2c6d75468148",
   "metadata": {},
   "outputs": [],
   "source": []
  },
  {
   "cell_type": "code",
   "execution_count": 3,
   "id": "5e11bee7-66f5-4394-b3a6-098e55ded62a",
   "metadata": {},
   "outputs": [
    {
     "name": "stdout",
     "output_type": "stream",
     "text": [
      "['p', 'w', 's', 'k', 'i', 'l', 'l', 's']\n"
     ]
    }
   ],
   "source": [
    "l1 = []\n",
    "for i in \"pwskills\":\n",
    "    l1.append(i)\n",
    "print(l1)"
   ]
  },
  {
   "cell_type": "code",
   "execution_count": null,
   "id": "35900f41-8251-4f68-9795-f8446f0cc6bc",
   "metadata": {},
   "outputs": [],
   "source": []
  },
  {
   "cell_type": "code",
   "execution_count": null,
   "id": "33b9ec1d-fc1f-4349-9388-8dfdd1dbe260",
   "metadata": {},
   "outputs": [],
   "source": []
  },
  {
   "cell_type": "raw",
   "id": "9f340860-80df-44a2-b145-da9e3a75c55b",
   "metadata": {},
   "source": [
    "Q8. Write a python program to check whether a given number is Palindrome or not using a while loop."
   ]
  },
  {
   "cell_type": "code",
   "execution_count": 51,
   "id": "1c4da130-049e-4f5b-8ac7-d6a40c630796",
   "metadata": {},
   "outputs": [
    {
     "name": "stdin",
     "output_type": "stream",
     "text": [
      "Enter the number:  66\n"
     ]
    },
    {
     "name": "stdout",
     "output_type": "stream",
     "text": [
      "66 is a Palindrome\n"
     ]
    }
   ],
   "source": [
    "num = int(input('Enter the number: '))\n",
    "reverse = 0\n",
    "number = num\n",
    "while(num != 0):\n",
    "   remainder = num % 10\n",
    "   reverse = reverse * 10 + remainder\n",
    "   num = int(num / 10)\n",
    "if(number == reverse):\n",
    "   print(number,'is a Palindrome')\n",
    "else:\n",
    "   print(number,'is not a Palindrome')"
   ]
  },
  {
   "cell_type": "code",
   "execution_count": null,
   "id": "9951fa98-6f40-44f5-aba7-49043bdc0ff7",
   "metadata": {},
   "outputs": [],
   "source": []
  },
  {
   "cell_type": "code",
   "execution_count": null,
   "id": "448a753a-a19c-4cea-8eb6-b782fe1172f2",
   "metadata": {},
   "outputs": [],
   "source": []
  },
  {
   "cell_type": "raw",
   "id": "2e0b7397-ba9f-4f36-bdee-3cd24c2b480b",
   "metadata": {},
   "source": [
    "Q9. Write a code to print odd numbers from 1 to 100 using a list comprehension.\n",
    "Note:- Use a list comprehension to create a list from 1 to 100 and use another List comprehension to filter out odd numbers."
   ]
  },
  {
   "cell_type": "code",
   "execution_count": 48,
   "id": "85fcdd97-1aea-4e93-8b5c-b5a4d8850a1b",
   "metadata": {},
   "outputs": [
    {
     "name": "stdout",
     "output_type": "stream",
     "text": [
      "[1, 3, 5, 7, 9, 11, 13, 15, 17, 19, 21, 23, 25, 27, 29, 31, 33, 35, 37, 39, 41, 43, 45, 47, 49, 51, 53, 55, 57, 59, 61, 63, 65, 67, 69, 71, 73, 75, 77, 79, 81, 83, 85, 87, 89, 91, 93, 95, 97, 99]\n"
     ]
    }
   ],
   "source": [
    "odd_list = [element for element in range(1, 101) if element % 2 == 1 ]\n",
    "print(odd_list)"
   ]
  },
  {
   "cell_type": "code",
   "execution_count": null,
   "id": "b2b0e0b9-14e5-4aa0-8bf0-9641936d59cb",
   "metadata": {},
   "outputs": [],
   "source": []
  },
  {
   "cell_type": "code",
   "execution_count": null,
   "id": "b4b21b48-1568-40fc-9a04-942bf22e1ac0",
   "metadata": {},
   "outputs": [],
   "source": []
  },
  {
   "cell_type": "code",
   "execution_count": null,
   "id": "9e22c027-4b85-48e6-a0b0-18c720ed2bff",
   "metadata": {},
   "outputs": [],
   "source": []
  },
  {
   "cell_type": "code",
   "execution_count": null,
   "id": "2a8638db-6b05-4d83-999c-5f9a176ff497",
   "metadata": {},
   "outputs": [],
   "source": []
  },
  {
   "cell_type": "code",
   "execution_count": null,
   "id": "7874e01d-c884-4a92-a968-c2dc10bbb6fd",
   "metadata": {},
   "outputs": [],
   "source": []
  }
 ],
 "metadata": {
  "kernelspec": {
   "display_name": "Python 3 (ipykernel)",
   "language": "python",
   "name": "python3"
  },
  "language_info": {
   "codemirror_mode": {
    "name": "ipython",
    "version": 3
   },
   "file_extension": ".py",
   "mimetype": "text/x-python",
   "name": "python",
   "nbconvert_exporter": "python",
   "pygments_lexer": "ipython3",
   "version": "3.10.8"
  }
 },
 "nbformat": 4,
 "nbformat_minor": 5
}
